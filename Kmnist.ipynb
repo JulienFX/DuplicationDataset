{
 "cells": [
  {
   "cell_type": "code",
   "execution_count": 1,
   "id": "335f6894",
   "metadata": {},
   "outputs": [],
   "source": [
    "# Kmnist word game with the cluster algorithm Kmeans \n",
    "from matplotlib import pyplot as plt, image as mpimg \n",
    "import cv2\n",
    "import numpy as np \n",
    "import pandas as pd \n",
    "import os\n",
    "import random\n",
    "import math "
   ]
  },
  {
   "cell_type": "code",
   "execution_count": 9,
   "id": "f5ca9cdb",
   "metadata": {},
   "outputs": [],
   "source": [
    "def get_file_count(directory):\n",
    "    file_count = 0\n",
    "    \n",
    "    for root, dirs, files in os.walk(directory):\n",
    "        file_count += len(files)\n",
    "        \n",
    "    return file_count"
   ]
  },
  {
   "cell_type": "code",
   "execution_count": 10,
   "id": "d5d650f6",
   "metadata": {},
   "outputs": [
    {
     "data": {
      "text/plain": [
       "6016"
      ]
     },
     "execution_count": 10,
     "metadata": {},
     "output_type": "execute_result"
    }
   ],
   "source": [
    "mnist = pd.read_csv('mnist_train.csv') # 60K data\n",
    "countK = get_file_count(os.getcwd()+'/NewNone')\n",
    "countK"
   ]
  },
  {
   "cell_type": "code",
   "execution_count": null,
   "id": "6bb5c258",
   "metadata": {},
   "outputs": [],
   "source": []
  }
 ],
 "metadata": {
  "kernelspec": {
   "display_name": "Python 3 (ipykernel)",
   "language": "python",
   "name": "python3"
  },
  "language_info": {
   "codemirror_mode": {
    "name": "ipython",
    "version": 3
   },
   "file_extension": ".py",
   "mimetype": "text/x-python",
   "name": "python",
   "nbconvert_exporter": "python",
   "pygments_lexer": "ipython3",
   "version": "3.9.13"
  }
 },
 "nbformat": 4,
 "nbformat_minor": 5
}
