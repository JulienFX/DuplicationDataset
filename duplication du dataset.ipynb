{
 "cells": [
  {
   "cell_type": "code",
   "execution_count": 1,
   "id": "d01d5e48",
   "metadata": {},
   "outputs": [],
   "source": [
    "from matplotlib import pyplot as plt, image as mpimg \n",
    "import cv2\n",
    "import numpy as np \n",
    "import pandas as pd \n",
    "import os\n",
    "import random\n",
    "import math "
   ]
  },
  {
   "cell_type": "code",
   "execution_count": 4,
   "id": "0ac7519d",
   "metadata": {},
   "outputs": [],
   "source": [
    "tab_functions = [reverseColor, removeWhite, smoothImage, noise, rota, sliceImg, erosion, emaciated, edgeDetection]"
   ]
  },
  {
   "cell_type": "code",
   "execution_count": 16,
   "id": "c7c0c9f4",
   "metadata": {},
   "outputs": [
    {
     "name": "stdout",
     "output_type": "stream",
     "text": [
      "55.0\n"
     ]
    }
   ],
   "source": [
    "# TODO : Find some forbidden operations between functions ... others ways to improve ? \n",
    "path = os.getcwd()+\"\\\\training set\\\\\"\n",
    "parent_directory = os.path.abspath(os.path.join(os.getcwd(), os.pardir))\n",
    "nbFunctions = 11\n",
    "print( str( math.factorial(nbFunctions)/( 2*math.factorial(nbFunctions-2) ) ) )\n",
    "count=-1\n",
    "for root, dirs, files in os.walk(path):\n",
    "    # print(os.getcwd()+\"\\\\new\\\\\"+str(count))\n",
    "    count+=1\n",
    "    pathDir = os.getcwd()+\"\\\\new\"+str(count)\n",
    "    os.makedirs(pathDir, exist_ok=True)\n",
    "    imCount=0\n",
    "    for file in files:\n",
    "        # each image is gonna have 2 random function applied on her\n",
    "        full_path = os.path.join(root, file)\n",
    "        img = mpimg.imread(full_path) # color between 0 -> noir and 255 -> white\n",
    "        line, col, rgb = img.shape # 200 rows, 200 columns, RGB \n",
    "        randNb = random.randint(0,len(tab_functions)-1)\n",
    "        i = tab_functions[randNb](img)\n",
    "        randNb = random.randint(0,len(tab_functions)-1)\n",
    "        i = tab_functions[randNb](i)\n",
    "        '''\n",
    "        i = reverseColor(img)\n",
    "        i = removeWhite(img)\n",
    "        i = smoothImage(img)\n",
    "        i = noise(img)\n",
    "        i = rota(img)\n",
    "        i = sliceImg(img)\n",
    "        i = erosion(img)\n",
    "        i = emaciated(img)\n",
    "        i = edgeDetection(img)\n",
    "        # outlines = outlinesDots(img) # need to be improved\n",
    "        # img = resize(img) # need to be improved\n",
    "        '''\n",
    "        thepath = os.getcwd()+\"\\\\new\"+str(count-1)+\"\\\\\"+str(imCount) # -1 required will see later why \n",
    "        cv2.imwrite(thepath+\".jpg\", i) \n",
    "        #print(os.getcwd()+\"\\\\new\"+str(count)+\"\\\\\"+str(imCount))\n",
    "        imCount+=1"
   ]
  },
  {
   "cell_type": "code",
   "execution_count": 6,
   "id": "2ed50200",
   "metadata": {},
   "outputs": [],
   "source": [
    "# Total of functions processing modification on image : 10 // 1 just giving us the outline \n",
    "def reverseColor(img) :\n",
    "    modification = np.zeros_like(img) # matrix with the same size of img but full of 0\n",
    "    modification = 255 - img \n",
    "    return modification\n",
    "def removeWhite(img) : \n",
    "    return np.clip(img.astype(int),0,150).astype(np.uint8)\n",
    "def smoothImage(img) : \n",
    "    ksize=(random.choice(range(1, 20, 2)),random.choice(range(1, 20, 2))) # between 1 and 20 odd for kernel's length for convolution \n",
    "    # more the values are high more the blur will be impacted by a larger number of pixel \n",
    "    # odd kernel guarantees that the core has a symmetrical central point\n",
    "    standardDev = random.randint(0,20) # impact on the pronunciation of blur on the final matrix during convolution \n",
    "    return cv2.GaussianBlur(img,ksize,standardDev)\n",
    "def noise(img) : \n",
    "    mean = random.uniform(0, 0.3) # the average of the noise that will be added \n",
    "    standardDev = random.uniform(0, 0.3)\n",
    "    image = img.astype(np.float32) / 255.0 # normalisation \n",
    "    noise = np.random.normal(mean, standardDev, image.shape)\n",
    "    noisy_image = image + noise\n",
    "    noisy_image = np.clip(noisy_image, 0, 1) # just to be sure that the value stay between 0 and 1 \n",
    "    return (noisy_image * 255).astype(np.uint8) # convert to 8-bit integers\n",
    "def rota(img) :\n",
    "    return np.rot90(img,random.randint(0,359))\n",
    "def sliceImg(img) : # binarization of the image to slice the shape of our figure\n",
    "    _,binary_image = cv2.threshold(img, 0, 255, cv2.THRESH_BINARY) # return a tuple : (threshold value actually used in thresholding process, image)\n",
    "    # this function return us an image with hole on our figure -> to counter that, we can apply an erosion filter\n",
    "    return binary_image\n",
    "def erosion(img) : \n",
    "    kernel = np.ones((random.randint(0,5),random.randint(0,5)), np.uint8)\n",
    "    return cv2.erode(img,kernel,iterations=1) # Currently we will let iterations=1, we will see later if we change or not \n",
    "def emaciated(img) : \n",
    "    kernel = np.ones((random.randint(0,5),random.randint(0,5)), np.uint8)\n",
    "    return cv2.morphologyEx(img,cv2.MORPH_OPEN,kernel)\n",
    "def edgeDetection(img) : \n",
    "    return cv2.Canny(img,1,10) # have to understand how work Sobel algorithm for the parameter of Canny algorithm \n",
    "def outlinesDots(img) :\n",
    "    outlines,_ = cv2.findContours(img,cv2.RETR_EXTERNAL, cv2.CHAIN_APPROX_SIMPLE)\n",
    "    return outlines # list of outlines dots obtained with the Canny algorithm\n",
    "def resize(img) :\n",
    "    new_width = 1600 \n",
    "    new_height = 200 \n",
    "    return cv2.resize(img,(new_width, new_height))"
   ]
  },
  {
   "cell_type": "code",
   "execution_count": 15,
   "id": "c0b11bf3",
   "metadata": {},
   "outputs": [],
   "source": [
    "# I've created an image which is not a number in paint and I will apply to this image several combination of function\n",
    "# in order to modify it\n",
    "path = os.getcwd()+\"\\\\training set\\\\None\\\\img.jpg\"\n",
    "noNbImg = mpimg.imread(path)"
   ]
  },
  {
   "cell_type": "code",
   "execution_count": 23,
   "id": "e97b0b69",
   "metadata": {},
   "outputs": [],
   "source": [
    "for l in range (len(tab_functions)-1) :\n",
    "    for j in range (len(tab_functions)-1) :\n",
    "        i = tab_functions[l](noNbImg)\n",
    "        i = tab_functions[j](i)\n",
    "        thepath = os.getcwd()+\"\\\\newNone\\\\\"+str(l)+str(j)+\".jpg\"\n",
    "        cv2.imwrite(thepath,i)"
   ]
  },
  {
   "cell_type": "code",
   "execution_count": 14,
   "id": "75e5e58a",
   "metadata": {},
   "outputs": [],
   "source": [
    "# Now we will linger on the distortion aspect of an image \n",
    "# To apply distortion we need to select point but not randomly ... \n",
    "# I will explore  different algorithm that will be usefull\n",
    "# the canny algoritghm \n",
    "# the Hough's transformation \n",
    "# corner sensor of Harris or Shi-Tomasi"
   ]
  },
  {
   "cell_type": "code",
   "execution_count": null,
   "id": "32e12a8d",
   "metadata": {},
   "outputs": [],
   "source": [
    "# Everything under this comment section need to be checked before going into a function "
   ]
  },
  {
   "cell_type": "code",
   "execution_count": 31,
   "id": "fb82d54a",
   "metadata": {},
   "outputs": [
    {
     "data": {
      "text/plain": [
       "<matplotlib.image.AxesImage at 0x1b215ae5520>"
      ]
     },
     "execution_count": 31,
     "metadata": {},
     "output_type": "execute_result"
    },
    {
     "data": {
      "image/png": "[encoded data removed]",
      "text/plain": [
       "<Figure size 640x480 with 1 Axes>"
      ]
     },
     "metadata": {},
     "output_type": "display_data"
    }
   ],
   "source": [
    "# opération de cisaillementshear_angle = 30  # Angle de cisaillement en degrés\n",
    "\n",
    "shear_angle = 10  # Angle de cisaillement en degrés\n",
    "\n",
    "# Matrice de transformation affine pour le cisaillement\n",
    "matrix_shear = np.float32([[1, np.tan(np.radians(shear_angle)), 0],\n",
    "                           [0, 1, 0]])\n",
    "\n",
    "# Application de la transformation affine de cisaillement\n",
    "sheared_img = cv2.warpAffine(img, matrix_shear, (img.shape[0], img.shape[1]))\n",
    "plt.imshow(sheared_img)"
   ]
  },
  {
   "cell_type": "code",
   "execution_count": 48,
   "id": "a74fc3c3",
   "metadata": {},
   "outputs": [
    {
     "data": {
      "text/plain": [
       "<matplotlib.image.AxesImage at 0x1b217074fd0>"
      ]
     },
     "execution_count": 48,
     "metadata": {},
     "output_type": "execute_result"
    },
    {
     "data": {
      "image/png": "[encoded data removed]",
      "text/plain": [
       "<Figure size 640x480 with 1 Axes>"
      ]
     },
     "metadata": {},
     "output_type": "display_data"
    }
   ],
   "source": [
    "# Créer une grille de déformation\n",
    "rows, cols = image.shape[:2]\n",
    "grid_size = 80\n",
    "x_points = np.linspace(50, cols, grid_size)\n",
    "y_points = np.linspace(50, rows, grid_size)\n",
    "x_grid, y_grid = np.meshgrid(x_points, y_points)\n",
    "\n",
    "# Définir les points de contrôle de la grille de déformation\n",
    "control_points = np.column_stack((x_grid.flatten(), y_grid.flatten()))\n",
    "\n",
    "# Appliquer la déformation de la grille\n",
    "deformed_image = cv2.remap(img, x_grid.astype(np.float32), y_grid.astype(np.float32), interpolation=cv2.INTER_LINEAR)\n",
    "\n",
    "plt.imshow(deformed_image)"
   ]
  },
  {
   "cell_type": "code",
   "execution_count": null,
   "id": "68dc5c54",
   "metadata": {},
   "outputs": [],
   "source": []
  }
 ],
 "metadata": {
  "kernelspec": {
   "display_name": "Python 3 (ipykernel)",
   "language": "python",
   "name": "python3"
  },
  "language_info": {
   "codemirror_mode": {
    "name": "ipython",
    "version": 3
   },
   "file_extension": ".py",
   "mimetype": "text/x-python",
   "name": "python",
   "nbconvert_exporter": "python",
   "pygments_lexer": "ipython3",
   "version": "3.9.13"
  }
 },
 "nbformat": 4,
 "nbformat_minor": 5
}
